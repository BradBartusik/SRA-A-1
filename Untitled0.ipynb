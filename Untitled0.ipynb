{
  "nbformat": 4,
  "nbformat_minor": 0,
  "metadata": {
    "colab": {
      "name": "Untitled0.ipynb",
      "provenance": [],
      "authorship_tag": "ABX9TyOhtjXFQTbMPGON5ODPIfww",
      "include_colab_link": true
    },
    "kernelspec": {
      "name": "python3",
      "display_name": "Python 3"
    }
  },
  "cells": [
    {
      "cell_type": "markdown",
      "metadata": {
        "id": "view-in-github",
        "colab_type": "text"
      },
      "source": [
        "<a href=\"https://colab.research.google.com/github/BradBartusik/SRA-A-1/blob/master/Untitled0.ipynb\" target=\"_parent\"><img src=\"https://colab.research.google.com/assets/colab-badge.svg\" alt=\"Open In Colab\"/></a>"
      ]
    },
    {
      "cell_type": "markdown",
      "metadata": {
        "id": "zORrQcUrvcpz",
        "colab_type": "text"
      },
      "source": [
        "# Hottest month.\n"
      ]
    },
    {
      "cell_type": "markdown",
      "metadata": {
        "id": "80yippP_vrA9",
        "colab_type": "text"
      },
      "source": [
        "# Outline\n",
        "The data set given to us gave us dates, total amount of precipitation as well as the minimum and maximum temperatures of that day. I took it upon myself to find the hottest temperature each month of 2017. This will show us which month gave us the highest temperature and thus allowing us to identify which season also gives us the hottest day.\n",
        "\n"
      ]
    },
    {
      "cell_type": "markdown",
      "metadata": {
        "id": "ms45myd3CLbZ",
        "colab_type": "text"
      },
      "source": [
        "![alt text](https://raw.githubusercontent.com/BradBartusik/Images/master/pictures/83205220_638154680327986_5218901270600876032_n.jpg)"
      ]
    },
    {
      "cell_type": "markdown",
      "metadata": {
        "id": "qI5HBzbqwOOC",
        "colab_type": "text"
      },
      "source": [
        "#Summary \n",
        "As you can see, the bar graph shows the highest temperature of 90 degrees is in June. At first I was surprised that August wasn't the hottest month because it sure feels that way. However after doing some thinking, August may feel \"Hotter\" because of the humidity in the air.\n"
      ]
    }
  ]
}